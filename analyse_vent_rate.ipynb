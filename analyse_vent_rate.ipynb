{
 "cells": [
  {
   "cell_type": "code",
   "execution_count": 1,
   "id": "fb943df3-e2b8-41c4-bb7b-6edb03e27050",
   "metadata": {},
   "outputs": [],
   "source": [
    "import pandas as pd\n",
    "import vent_utils as vu"
   ]
  },
  {
   "cell_type": "markdown",
   "id": "95c1dff3-b0f3-47e7-8cc1-72ff54b4b21a",
   "metadata": {},
   "source": [
    "### Read the results CSV file"
   ]
  },
  {
   "cell_type": "code",
   "execution_count": 2,
   "id": "725367e0-6cf3-4557-bad5-89a8a51c44ab",
   "metadata": {},
   "outputs": [
    {
     "data": {
      "text/html": [
       "<div>\n",
       "<style scoped>\n",
       "    .dataframe tbody tr th:only-of-type {\n",
       "        vertical-align: middle;\n",
       "    }\n",
       "\n",
       "    .dataframe tbody tr th {\n",
       "        vertical-align: top;\n",
       "    }\n",
       "\n",
       "    .dataframe thead th {\n",
       "        text-align: right;\n",
       "    }\n",
       "</style>\n",
       "<table border=\"1\" class=\"dataframe\">\n",
       "  <thead>\n",
       "    <tr style=\"text-align: right;\">\n",
       "      <th></th>\n",
       "      <th>video_id</th>\n",
       "      <th>fish_id</th>\n",
       "      <th>frame_id</th>\n",
       "      <th>x1</th>\n",
       "      <th>y1</th>\n",
       "      <th>width</th>\n",
       "      <th>height</th>\n",
       "      <th>area</th>\n",
       "      <th>label</th>\n",
       "      <th>score</th>\n",
       "      <th>filename</th>\n",
       "    </tr>\n",
       "  </thead>\n",
       "  <tbody>\n",
       "    <tr>\n",
       "      <th>0</th>\n",
       "      <td>247</td>\n",
       "      <td>1</td>\n",
       "      <td>0</td>\n",
       "      <td>592.869080</td>\n",
       "      <td>276.706116</td>\n",
       "      <td>55.851013</td>\n",
       "      <td>54.952942</td>\n",
       "      <td>3069.177482</td>\n",
       "      <td>open</td>\n",
       "      <td>0.998894</td>\n",
       "      <td>247.frame_000000.jpg</td>\n",
       "    </tr>\n",
       "    <tr>\n",
       "      <th>1</th>\n",
       "      <td>247</td>\n",
       "      <td>1</td>\n",
       "      <td>1</td>\n",
       "      <td>609.196472</td>\n",
       "      <td>276.714813</td>\n",
       "      <td>57.012772</td>\n",
       "      <td>55.993950</td>\n",
       "      <td>3192.370276</td>\n",
       "      <td>open</td>\n",
       "      <td>0.989953</td>\n",
       "      <td>247.frame_000001.jpg</td>\n",
       "    </tr>\n",
       "    <tr>\n",
       "      <th>2</th>\n",
       "      <td>247</td>\n",
       "      <td>1</td>\n",
       "      <td>2</td>\n",
       "      <td>628.898743</td>\n",
       "      <td>278.862549</td>\n",
       "      <td>52.703541</td>\n",
       "      <td>54.364429</td>\n",
       "      <td>2865.197927</td>\n",
       "      <td>open</td>\n",
       "      <td>0.998550</td>\n",
       "      <td>247.frame_000002.jpg</td>\n",
       "    </tr>\n",
       "    <tr>\n",
       "      <th>3</th>\n",
       "      <td>247</td>\n",
       "      <td>1</td>\n",
       "      <td>3</td>\n",
       "      <td>643.355469</td>\n",
       "      <td>279.635864</td>\n",
       "      <td>53.611305</td>\n",
       "      <td>54.800533</td>\n",
       "      <td>2937.928118</td>\n",
       "      <td>open</td>\n",
       "      <td>0.998755</td>\n",
       "      <td>247.frame_000003.jpg</td>\n",
       "    </tr>\n",
       "    <tr>\n",
       "      <th>4</th>\n",
       "      <td>247</td>\n",
       "      <td>1</td>\n",
       "      <td>4</td>\n",
       "      <td>658.778625</td>\n",
       "      <td>281.765778</td>\n",
       "      <td>53.618073</td>\n",
       "      <td>54.172813</td>\n",
       "      <td>2904.641838</td>\n",
       "      <td>open</td>\n",
       "      <td>0.991226</td>\n",
       "      <td>247.frame_000004.jpg</td>\n",
       "    </tr>\n",
       "    <tr>\n",
       "      <th>...</th>\n",
       "      <td>...</td>\n",
       "      <td>...</td>\n",
       "      <td>...</td>\n",
       "      <td>...</td>\n",
       "      <td>...</td>\n",
       "      <td>...</td>\n",
       "      <td>...</td>\n",
       "      <td>...</td>\n",
       "      <td>...</td>\n",
       "      <td>...</td>\n",
       "      <td>...</td>\n",
       "    </tr>\n",
       "    <tr>\n",
       "      <th>81394</th>\n",
       "      <td>247</td>\n",
       "      <td>4514</td>\n",
       "      <td>26992</td>\n",
       "      <td>46.918255</td>\n",
       "      <td>664.107056</td>\n",
       "      <td>76.438179</td>\n",
       "      <td>77.330719</td>\n",
       "      <td>5911.019342</td>\n",
       "      <td>open</td>\n",
       "      <td>0.997908</td>\n",
       "      <td>247.frame_026992.jpg</td>\n",
       "    </tr>\n",
       "    <tr>\n",
       "      <th>81395</th>\n",
       "      <td>247</td>\n",
       "      <td>4515</td>\n",
       "      <td>26983</td>\n",
       "      <td>1212.001465</td>\n",
       "      <td>417.816986</td>\n",
       "      <td>49.192627</td>\n",
       "      <td>53.977814</td>\n",
       "      <td>2655.310454</td>\n",
       "      <td>open</td>\n",
       "      <td>0.986124</td>\n",
       "      <td>247.frame_026983.jpg</td>\n",
       "    </tr>\n",
       "    <tr>\n",
       "      <th>81396</th>\n",
       "      <td>247</td>\n",
       "      <td>4515</td>\n",
       "      <td>26984</td>\n",
       "      <td>1199.562378</td>\n",
       "      <td>414.041138</td>\n",
       "      <td>48.106342</td>\n",
       "      <td>55.981174</td>\n",
       "      <td>2693.049542</td>\n",
       "      <td>open</td>\n",
       "      <td>0.983715</td>\n",
       "      <td>247.frame_026984.jpg</td>\n",
       "    </tr>\n",
       "    <tr>\n",
       "      <th>81397</th>\n",
       "      <td>247</td>\n",
       "      <td>4515</td>\n",
       "      <td>26985</td>\n",
       "      <td>1187.201538</td>\n",
       "      <td>414.104034</td>\n",
       "      <td>47.134453</td>\n",
       "      <td>52.103954</td>\n",
       "      <td>2455.891376</td>\n",
       "      <td>open</td>\n",
       "      <td>0.994734</td>\n",
       "      <td>247.frame_026985.jpg</td>\n",
       "    </tr>\n",
       "    <tr>\n",
       "      <th>81398</th>\n",
       "      <td>247</td>\n",
       "      <td>4515</td>\n",
       "      <td>26986</td>\n",
       "      <td>1170.356323</td>\n",
       "      <td>409.367920</td>\n",
       "      <td>49.159019</td>\n",
       "      <td>54.925758</td>\n",
       "      <td>2700.096425</td>\n",
       "      <td>open</td>\n",
       "      <td>0.652831</td>\n",
       "      <td>247.frame_026986.jpg</td>\n",
       "    </tr>\n",
       "  </tbody>\n",
       "</table>\n",
       "<p>81399 rows × 11 columns</p>\n",
       "</div>"
      ],
      "text/plain": [
       "       video_id  fish_id  frame_id           x1          y1      width  \\\n",
       "0           247        1         0   592.869080  276.706116  55.851013   \n",
       "1           247        1         1   609.196472  276.714813  57.012772   \n",
       "2           247        1         2   628.898743  278.862549  52.703541   \n",
       "3           247        1         3   643.355469  279.635864  53.611305   \n",
       "4           247        1         4   658.778625  281.765778  53.618073   \n",
       "...         ...      ...       ...          ...         ...        ...   \n",
       "81394       247     4514     26992    46.918255  664.107056  76.438179   \n",
       "81395       247     4515     26983  1212.001465  417.816986  49.192627   \n",
       "81396       247     4515     26984  1199.562378  414.041138  48.106342   \n",
       "81397       247     4515     26985  1187.201538  414.104034  47.134453   \n",
       "81398       247     4515     26986  1170.356323  409.367920  49.159019   \n",
       "\n",
       "          height         area label     score              filename  \n",
       "0      54.952942  3069.177482  open  0.998894  247.frame_000000.jpg  \n",
       "1      55.993950  3192.370276  open  0.989953  247.frame_000001.jpg  \n",
       "2      54.364429  2865.197927  open  0.998550  247.frame_000002.jpg  \n",
       "3      54.800533  2937.928118  open  0.998755  247.frame_000003.jpg  \n",
       "4      54.172813  2904.641838  open  0.991226  247.frame_000004.jpg  \n",
       "...          ...          ...   ...       ...                   ...  \n",
       "81394  77.330719  5911.019342  open  0.997908  247.frame_026992.jpg  \n",
       "81395  53.977814  2655.310454  open  0.986124  247.frame_026983.jpg  \n",
       "81396  55.981174  2693.049542  open  0.983715  247.frame_026984.jpg  \n",
       "81397  52.103954  2455.891376  open  0.994734  247.frame_026985.jpg  \n",
       "81398  54.925758  2700.096425  open  0.652831  247.frame_026986.jpg  \n",
       "\n",
       "[81399 rows x 11 columns]"
      ]
     },
     "execution_count": 2,
     "metadata": {},
     "output_type": "execute_result"
    }
   ],
   "source": [
    "filename = '247.csv.gz'\n",
    "df = pd.read_csv(filename)\n",
    "df"
   ]
  },
  {
   "cell_type": "markdown",
   "id": "043eddb3-8905-4267-a85b-238ae6b53c8f",
   "metadata": {},
   "source": [
    "### Count how many open/closed consecutive frames there are in every open/closed sequence\n",
    "#### Note: this is a bit slow"
   ]
  },
  {
   "cell_type": "code",
   "execution_count": 3,
   "id": "a6da54c4-0cc4-41a0-ba8f-fb0675ab868c",
   "metadata": {},
   "outputs": [
    {
     "name": "stdout",
     "output_type": "stream",
     "text": [
      "Dropping fish if DJ fraction is higher than 0.5\n",
      "Imputing nulls of length 1 with random choice\n",
      "Changing closed-open-closed to closed-closed-closed for open of 1\n"
     ]
    },
    {
     "data": {
      "text/html": [
       "<div>\n",
       "<style scoped>\n",
       "    .dataframe tbody tr th:only-of-type {\n",
       "        vertical-align: middle;\n",
       "    }\n",
       "\n",
       "    .dataframe tbody tr th {\n",
       "        vertical-align: top;\n",
       "    }\n",
       "\n",
       "    .dataframe thead th {\n",
       "        text-align: right;\n",
       "    }\n",
       "</style>\n",
       "<table border=\"1\" class=\"dataframe\">\n",
       "  <thead>\n",
       "    <tr style=\"text-align: right;\">\n",
       "      <th></th>\n",
       "      <th></th>\n",
       "      <th></th>\n",
       "      <th>label</th>\n",
       "      <th>size</th>\n",
       "    </tr>\n",
       "    <tr>\n",
       "      <th>video_id</th>\n",
       "      <th>fish_id</th>\n",
       "      <th>change_id</th>\n",
       "      <th></th>\n",
       "      <th></th>\n",
       "    </tr>\n",
       "  </thead>\n",
       "  <tbody>\n",
       "    <tr>\n",
       "      <th rowspan=\"11\" valign=\"top\">247</th>\n",
       "      <th rowspan=\"5\" valign=\"top\">1</th>\n",
       "      <th>1</th>\n",
       "      <td>open</td>\n",
       "      <td>5</td>\n",
       "    </tr>\n",
       "    <tr>\n",
       "      <th>2</th>\n",
       "      <td>closed</td>\n",
       "      <td>15</td>\n",
       "    </tr>\n",
       "    <tr>\n",
       "      <th>3</th>\n",
       "      <td>open</td>\n",
       "      <td>8</td>\n",
       "    </tr>\n",
       "    <tr>\n",
       "      <th>4</th>\n",
       "      <td>closed</td>\n",
       "      <td>15</td>\n",
       "    </tr>\n",
       "    <tr>\n",
       "      <th>5</th>\n",
       "      <td>open</td>\n",
       "      <td>5</td>\n",
       "    </tr>\n",
       "    <tr>\n",
       "      <th>...</th>\n",
       "      <th>...</th>\n",
       "      <td>...</td>\n",
       "      <td>...</td>\n",
       "    </tr>\n",
       "    <tr>\n",
       "      <th>4513</th>\n",
       "      <th>11</th>\n",
       "      <td>open</td>\n",
       "      <td>2</td>\n",
       "    </tr>\n",
       "    <tr>\n",
       "      <th rowspan=\"3\" valign=\"top\">4514</th>\n",
       "      <th>1</th>\n",
       "      <td>open</td>\n",
       "      <td>3</td>\n",
       "    </tr>\n",
       "    <tr>\n",
       "      <th>2</th>\n",
       "      <td>closed</td>\n",
       "      <td>4</td>\n",
       "    </tr>\n",
       "    <tr>\n",
       "      <th>3</th>\n",
       "      <td>open</td>\n",
       "      <td>10</td>\n",
       "    </tr>\n",
       "    <tr>\n",
       "      <th>4515</th>\n",
       "      <th>1</th>\n",
       "      <td>open</td>\n",
       "      <td>4</td>\n",
       "    </tr>\n",
       "  </tbody>\n",
       "</table>\n",
       "<p>13470 rows × 2 columns</p>\n",
       "</div>"
      ],
      "text/plain": [
       "                             label  size\n",
       "video_id fish_id change_id              \n",
       "247      1       1            open     5\n",
       "                 2          closed    15\n",
       "                 3            open     8\n",
       "                 4          closed    15\n",
       "                 5            open     5\n",
       "...                            ...   ...\n",
       "         4513    11           open     2\n",
       "         4514    1            open     3\n",
       "                 2          closed     4\n",
       "                 3            open    10\n",
       "         4515    1            open     4\n",
       "\n",
       "[13470 rows x 2 columns]"
      ]
     },
     "execution_count": 3,
     "metadata": {},
     "output_type": "execute_result"
    }
   ],
   "source": [
    "vent_df, vent_df_no_nulls, fish_sizes_df = vu.process_tracks(\n",
    "    tracks_df=df,\n",
    "    drop_DJ_sequence=None,\n",
    "    drop_DJ_fraction=0.5,\n",
    "    n_impute_randomly=1,\n",
    "    fix_open_within_closed=1,\n",
    "    fix_single_frames_with_medians=False,\n",
    "    impute_with_medians=False,\n",
    "    extend_flanks_with_medians=False\n",
    ")\n",
    "vent_df"
   ]
  },
  {
   "cell_type": "markdown",
   "id": "3d838a84-73c0-4f52-84d8-fee530b410e2",
   "metadata": {},
   "source": [
    "### Filter only fish with head larger than 75 x 75 pixels (i.e. it is close enough)"
   ]
  },
  {
   "cell_type": "code",
   "execution_count": 4,
   "id": "8756d273-5b18-411a-8eb4-a2fa386a4207",
   "metadata": {},
   "outputs": [],
   "source": [
    "ONLY_LARGER_THAN = 75 * 75\n",
    "vent_df = vu.subset_vent_df_based_on_size(vent_df=vent_df, fish_sizes_df=fish_sizes_df, only_larger_than=ONLY_LARGER_THAN)"
   ]
  },
  {
   "cell_type": "markdown",
   "id": "069a90d7-f937-43a3-9f80-83f7d15c058d",
   "metadata": {},
   "source": [
    "### Calculate the average length of open+closed duration for every fish"
   ]
  },
  {
   "cell_type": "code",
   "execution_count": 5,
   "id": "fb5a5464-8bd3-4ed0-9b55-ba68a251fdd0",
   "metadata": {},
   "outputs": [
    {
     "data": {
      "text/plain": [
       "video_id  fish_id\n",
       "247       2          36.000000\n",
       "          7          54.000000\n",
       "          14          6.000000\n",
       "          32         25.000000\n",
       "          49         18.571429\n",
       "                       ...    \n",
       "          4431       18.000000\n",
       "          4442        1.000000\n",
       "          4465        9.500000\n",
       "          4483        1.000000\n",
       "          4514       10.500000\n",
       "Name: size, Length: 353, dtype: float64"
      ]
     },
     "execution_count": 5,
     "metadata": {},
     "output_type": "execute_result"
    }
   ],
   "source": [
    "PER_STATUS = False\n",
    "vent_lengths1 = vu.get_average_vent_length(vent_df=vent_df, estimator='mean', per_status=PER_STATUS, per_fish=True, remove_flanking=False)\n",
    "vent_lengths1"
   ]
  },
  {
   "cell_type": "markdown",
   "id": "67ca8eca-7f21-42fe-ad9d-2bc39f50602d",
   "metadata": {},
   "source": [
    "### Calculate mean across all the fish in the video"
   ]
  },
  {
   "cell_type": "code",
   "execution_count": 6,
   "id": "39aef168-c82b-4390-a7d9-55c49d8e3277",
   "metadata": {},
   "outputs": [
    {
     "name": "stdout",
     "output_type": "stream",
     "text": [
      "Number of samples\n"
     ]
    },
    {
     "data": {
      "text/plain": [
       "video_id\n",
       "247    353\n",
       "Name: size, dtype: int64"
      ]
     },
     "metadata": {},
     "output_type": "display_data"
    },
    {
     "name": "stdout",
     "output_type": "stream",
     "text": [
      "\n",
      "MEAN open+closed duration (frames)\n"
     ]
    },
    {
     "data": {
      "text/plain": [
       "video_id\n",
       "247    17.349686\n",
       "Name: size, dtype: float64"
      ]
     },
     "metadata": {},
     "output_type": "display_data"
    }
   ],
   "source": [
    "print('Number of samples')\n",
    "display(vent_lengths1.groupby('video_id').count())\n",
    "print('\\nMEAN open+closed duration (frames)')\n",
    "display(vent_lengths1.groupby('video_id').mean())"
   ]
  },
  {
   "cell_type": "markdown",
   "id": "96086dd6-4a73-4b5e-bef6-c827f24fd96e",
   "metadata": {},
   "source": [
    "### Calculate the average length of open duration and closed duration for every fish"
   ]
  },
  {
   "cell_type": "code",
   "execution_count": 7,
   "id": "c612f8fc-5395-46f9-8d1f-968657d2e44d",
   "metadata": {},
   "outputs": [
    {
     "data": {
      "text/plain": [
       "video_id  fish_id  label \n",
       "247       2        open      36.0\n",
       "          7        open      54.0\n",
       "          14       open       6.0\n",
       "          32       closed     7.6\n",
       "                   open      17.4\n",
       "                             ... \n",
       "          4465     closed     3.0\n",
       "                   open       6.5\n",
       "          4483     open       1.0\n",
       "          4514     closed     4.0\n",
       "                   open       6.5\n",
       "Name: size, Length: 531, dtype: float64"
      ]
     },
     "execution_count": 7,
     "metadata": {},
     "output_type": "execute_result"
    }
   ],
   "source": [
    "PER_STATUS = True\n",
    "vent_lengths2 = vu.get_average_vent_length(vent_df=vent_df, estimator='mean', per_status=PER_STATUS, per_fish=True, remove_flanking=False)\n",
    "vent_lengths2"
   ]
  },
  {
   "cell_type": "markdown",
   "id": "71aa1f51-3931-4240-b15f-82317f81c667",
   "metadata": {},
   "source": [
    "### Calculate mean across all the fish in the video"
   ]
  },
  {
   "cell_type": "code",
   "execution_count": 8,
   "id": "213d61af-8d7f-4c58-857f-dc4b5355c459",
   "metadata": {},
   "outputs": [
    {
     "name": "stdout",
     "output_type": "stream",
     "text": [
      "Number of samples\n"
     ]
    },
    {
     "data": {
      "text/plain": [
       "video_id  label \n",
       "247       closed    225\n",
       "          open      306\n",
       "Name: size, dtype: int64"
      ]
     },
     "metadata": {},
     "output_type": "display_data"
    },
    {
     "name": "stdout",
     "output_type": "stream",
     "text": [
      "\n",
      "MEAN duration (frames)\n"
     ]
    },
    {
     "data": {
      "text/plain": [
       "video_id  label \n",
       "247       closed     4.296493\n",
       "          open      16.855321\n",
       "Name: size, dtype: float64"
      ]
     },
     "metadata": {},
     "output_type": "display_data"
    }
   ],
   "source": [
    "print('Number of samples')\n",
    "display(vent_lengths2.groupby(['video_id', 'label']).count())\n",
    "print('\\nMEAN duration (frames)')\n",
    "display(vent_lengths2.groupby(['video_id', 'label']).mean())"
   ]
  },
  {
   "cell_type": "code",
   "execution_count": null,
   "id": "1bb07661-adef-4345-964c-bdfdadfc491a",
   "metadata": {},
   "outputs": [],
   "source": []
  }
 ],
 "metadata": {
  "kernelspec": {
   "display_name": "cv_tools (Python 3.9)",
   "language": "python",
   "name": "cv_tools"
  },
  "language_info": {
   "codemirror_mode": {
    "name": "ipython",
    "version": 3
   },
   "file_extension": ".py",
   "mimetype": "text/x-python",
   "name": "python",
   "nbconvert_exporter": "python",
   "pygments_lexer": "ipython3",
   "version": "3.9.15"
  }
 },
 "nbformat": 4,
 "nbformat_minor": 5
}
